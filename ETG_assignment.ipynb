{
 "cells": [
  {
   "cell_type": "markdown",
   "id": "52150172",
   "metadata": {},
   "source": [
    "# Read Data From Json "
   ]
  },
  {
   "cell_type": "code",
   "execution_count": 1,
   "id": "60771201",
   "metadata": {},
   "outputs": [],
   "source": [
    "import json"
   ]
  },
  {
   "cell_type": "code",
   "execution_count": 2,
   "id": "7618dd70",
   "metadata": {},
   "outputs": [],
   "source": [
    "fd = open(\"record.json\",'r')\n",
    "text= fd.read()\n",
    "fd.close()\n",
    "\n",
    "record = json.loads(text)"
   ]
  },
  {
   "cell_type": "code",
   "execution_count": 3,
   "id": "a2ab278c",
   "metadata": {},
   "outputs": [
    {
     "data": {
      "text/plain": [
       "{'1001': {'name': 'Choco Cake', 'Quantity': 34, 'price': 100},\n",
       " '1002': {'name': 'Milk Cake', 'price': 800, 'Quantity': 100},\n",
       " '1003': {'name': 'Drink', 'price': 85, 'Quantity': 100},\n",
       " '1004': {'name': 'Candy', 'price': 5, 'Quantity': 1000, 'qn': 995},\n",
       " '1005': {'name': 'Pen', 'price': 20, 'Quantity': 100, 'qn': 91},\n",
       " '1006': {'name': 'Phone', 'price': 50000, 'Quantity': 10},\n",
       " '1007': {'name': 'Mic', 'price': 1500, 'Quantity': 0},\n",
       " '1008': {'name': 'Case', 'price': 599, 'Quantity': 5, 'qn': 0},\n",
       " '1009': {'name': 'Keyboard', 'price': 1999, 'Quantity': 10, 'qn': 8},\n",
       " '1010': {'name': 'table', 'price': 1000, 'Quantity': 10},\n",
       " '1011': {'name': 'book', 'price': 50, 'Quantity': 100, 'qn': 95},\n",
       " '1012': {'name': 'rubber', 'price': 2, 'Quantity': 90},\n",
       " '1013': {'name': 'shirt', 'price': 200, 'Quantity': 100},\n",
       " '1014': {'name': 'short notebook', 'price': 20, 'Quantity': 50},\n",
       " '1015': {'name': 'Jio Sim card', 'price': 150, 'Quantity': 100},\n",
       " '1016': {'name': 'bag', 'price': 500, 'Quantity': 50},\n",
       " '1017': {'name': 'remote', 'price': 100, 'Quantity': 50},\n",
       " '1018': {'name': 'tv', 'price': 250000, 'Quantity': 5},\n",
       " '1019': {'name': 'glass', 'price': 50, 'Quantity': 10},\n",
       " '1020': {'name': 'shooes', 'price': 2000, 'Quantity': 20},\n",
       " '1021': {'name': 'bike-cycle', 'price': 15000, 'Quantity': 5},\n",
       " '1022': {'name': 'lock', 'price': 150, 'Quantity': 100},\n",
       " '1023': {'name': 'cap', 'price': 100, 'Quantity': 89},\n",
       " '1024': {'name': 'cake', 'price': 200, 'Quantity': 5},\n",
       " '1025': {'name': 'mask', 'price': 10, 'Quantity': 100},\n",
       " '1026': {'name': 'watch', 'price': 800, 'Quantity': 60},\n",
       " '1027': {'name': 'Ear burds', 'price': 1500, 'Quantity': 10},\n",
       " '1028': {'name': 'laptop', 'price': 50000, 'Quantity': 3},\n",
       " '1029': {'name': 'smart watch', 'price': 2000, 'Quantity': 5},\n",
       " '1030': {'name': 'Resistance band', 'price': 250, 'Quantity': 5},\n",
       " '1031': {'name': 'cylinder', 'price': 1000, 'Quantity': 8},\n",
       " '1032': {'name': 'wifi', 'price': 2500, 'Quantity': 5},\n",
       " '1033': {'name': 'hanger', 'price': 100, 'Quantity': 12},\n",
       " '1034': {'name': 'pages', 'price': 2, 'Quantity': 100},\n",
       " '1035': {'name': 'sack', 'price': 100, 'Quantity': 34}}"
      ]
     },
     "execution_count": 3,
     "metadata": {},
     "output_type": "execute_result"
    }
   ],
   "source": [
    "record"
   ]
  },
  {
   "cell_type": "markdown",
   "id": "b98b6d64",
   "metadata": {},
   "source": [
    "# Add New Item into Inventory¶"
   ]
  },
  {
   "cell_type": "code",
   "execution_count": 4,
   "id": "0f8752ba",
   "metadata": {},
   "outputs": [
    {
     "name": "stdout",
     "output_type": "stream",
     "text": [
      "Enter product id:1036\n",
      "Enter name:ball\n",
      "Enter price:10\n",
      "Enter quantity:100\n"
     ]
    }
   ],
   "source": [
    "prod_id = str(input(\"Enter product id:\"))\n",
    "name = str(input(\"Enter name:\"))\n",
    "pr = int(input(\"Enter price:\"))\n",
    "qn = int(input(\"Enter quantity:\"))\n",
    "\n",
    "record[prod_id] = {'name': name, 'price': pr, 'Quantity': qn}\n",
    "\n",
    "js = json.dumps(record)\n",
    "\n",
    "fd = open(\"record.json\",'w')\n",
    "fd.write(js)\n",
    "fd.close()"
   ]
  },
  {
   "cell_type": "markdown",
   "id": "77e5ce93",
   "metadata": {},
   "source": [
    "# Purchase the product "
   ]
  },
  {
   "cell_type": "code",
   "execution_count": 5,
   "id": "72dcc612",
   "metadata": {},
   "outputs": [
    {
     "data": {
      "text/plain": [
       "{'1001': {'name': 'Choco Cake', 'Quantity': 34, 'price': 100},\n",
       " '1002': {'name': 'Milk Cake', 'price': 800, 'Quantity': 100},\n",
       " '1003': {'name': 'Drink', 'price': 85, 'Quantity': 100},\n",
       " '1004': {'name': 'Candy', 'price': 5, 'Quantity': 1000, 'qn': 995},\n",
       " '1005': {'name': 'Pen', 'price': 20, 'Quantity': 100, 'qn': 91},\n",
       " '1006': {'name': 'Phone', 'price': 50000, 'Quantity': 10},\n",
       " '1007': {'name': 'Mic', 'price': 1500, 'Quantity': 0},\n",
       " '1008': {'name': 'Case', 'price': 599, 'Quantity': 5, 'qn': 0},\n",
       " '1009': {'name': 'Keyboard', 'price': 1999, 'Quantity': 10, 'qn': 8},\n",
       " '1010': {'name': 'table', 'price': 1000, 'Quantity': 10},\n",
       " '1011': {'name': 'book', 'price': 50, 'Quantity': 100, 'qn': 95},\n",
       " '1012': {'name': 'rubber', 'price': 2, 'Quantity': 90},\n",
       " '1013': {'name': 'shirt', 'price': 200, 'Quantity': 100},\n",
       " '1014': {'name': 'short notebook', 'price': 20, 'Quantity': 50},\n",
       " '1015': {'name': 'Jio Sim card', 'price': 150, 'Quantity': 100},\n",
       " '1016': {'name': 'bag', 'price': 500, 'Quantity': 50},\n",
       " '1017': {'name': 'remote', 'price': 100, 'Quantity': 50},\n",
       " '1018': {'name': 'tv', 'price': 250000, 'Quantity': 5},\n",
       " '1019': {'name': 'glass', 'price': 50, 'Quantity': 10},\n",
       " '1020': {'name': 'shooes', 'price': 2000, 'Quantity': 20},\n",
       " '1021': {'name': 'bike-cycle', 'price': 15000, 'Quantity': 5},\n",
       " '1022': {'name': 'lock', 'price': 150, 'Quantity': 100},\n",
       " '1023': {'name': 'cap', 'price': 100, 'Quantity': 89},\n",
       " '1024': {'name': 'cake', 'price': 200, 'Quantity': 5},\n",
       " '1025': {'name': 'mask', 'price': 10, 'Quantity': 100},\n",
       " '1026': {'name': 'watch', 'price': 800, 'Quantity': 60},\n",
       " '1027': {'name': 'Ear burds', 'price': 1500, 'Quantity': 10},\n",
       " '1028': {'name': 'laptop', 'price': 50000, 'Quantity': 3},\n",
       " '1029': {'name': 'smart watch', 'price': 2000, 'Quantity': 5},\n",
       " '1030': {'name': 'Resistance band', 'price': 250, 'Quantity': 5},\n",
       " '1031': {'name': 'cylinder', 'price': 1000, 'Quantity': 8},\n",
       " '1032': {'name': 'wifi', 'price': 2500, 'Quantity': 5},\n",
       " '1033': {'name': 'hanger', 'price': 100, 'Quantity': 12},\n",
       " '1034': {'name': 'pages', 'price': 2, 'Quantity': 100},\n",
       " '1035': {'name': 'sack', 'price': 100, 'Quantity': 34},\n",
       " '1036': {'name': 'ball', 'price': 10, 'Quantity': 100}}"
      ]
     },
     "execution_count": 5,
     "metadata": {},
     "output_type": "execute_result"
    }
   ],
   "source": [
    "record"
   ]
  },
  {
   "cell_type": "code",
   "execution_count": 6,
   "id": "a6fe4e0b",
   "metadata": {},
   "outputs": [
    {
     "name": "stdout",
     "output_type": "stream",
     "text": [
      "Enter the product_Id: 1004\n",
      "Enter the quantity: 5\n",
      "Product:  Candy\n",
      "Price:  5\n",
      "Billing Amount:  25\n"
     ]
    }
   ],
   "source": [
    "ui_prod  = str(input(\"Enter the product_Id: \"))\n",
    "ui_quant = int(input(\"Enter the quantity: \"))\n",
    "\n",
    "\n",
    "print(\"Product: \", record[ui_prod]['name'])\n",
    "print(\"Price: \", record[ui_prod]['price'])\n",
    "print(\"Billing Amount: \", record[ui_prod]['price'] * ui_quant)\n",
    "\n",
    "record[ui_prod]['qn'] = record[ui_prod]['Quantity'] - ui_quant"
   ]
  },
  {
   "cell_type": "markdown",
   "id": "f1470d04",
   "metadata": {},
   "source": [
    "#  Update Inventory after purchase"
   ]
  },
  {
   "cell_type": "code",
   "execution_count": 12,
   "id": "422bf6fb",
   "metadata": {},
   "outputs": [],
   "source": [
    "js = json.dumps(record)\n",
    "\n",
    "fd = open(\"record.json\",'w')\n",
    "fd.write(js)\n",
    "fd.close()"
   ]
  },
  {
   "cell_type": "markdown",
   "id": "fe5593b2",
   "metadata": {},
   "source": [
    "# Sales JSON file "
   ]
  },
  {
   "cell_type": "code",
   "execution_count": 13,
   "id": "05affee1",
   "metadata": {},
   "outputs": [
    {
     "data": {
      "text/plain": [
       "{'prod': '1004', 'Quantity': 5, 'amount': 25}"
      ]
     },
     "execution_count": 13,
     "metadata": {},
     "output_type": "execute_result"
    }
   ],
   "source": [
    "{'prod' : ui_prod, 'Quantity' : ui_quant, 'amount': record[ui_prod]['price'] * ui_quant}"
   ]
  },
  {
   "cell_type": "code",
   "execution_count": 17,
   "id": "ec73ead3",
   "metadata": {},
   "outputs": [],
   "source": [
    "sales = {1 : {'prod' : ui_prod, 'Quantity' : ui_quant, 'amount': record[ui_prod]['price'] * ui_quant},\n",
    "         }"
   ]
  },
  {
   "cell_type": "code",
   "execution_count": 18,
   "id": "d925cfda",
   "metadata": {},
   "outputs": [],
   "source": [
    "sale = json.dumps(sales)"
   ]
  },
  {
   "cell_type": "code",
   "execution_count": 19,
   "id": "4dc9fc10",
   "metadata": {},
   "outputs": [],
   "source": [
    "fd=open(\"sales1.json\",'w')\n",
    "r=fd.write(sale)\n",
    "fd.close()"
   ]
  },
  {
   "cell_type": "code",
   "execution_count": null,
   "id": "5647c62f",
   "metadata": {},
   "outputs": [],
   "source": []
  },
  {
   "cell_type": "code",
   "execution_count": null,
   "id": "fb24a2eb",
   "metadata": {},
   "outputs": [],
   "source": []
  }
 ],
 "metadata": {
  "kernelspec": {
   "display_name": "Python 3",
   "language": "python",
   "name": "python3"
  },
  "language_info": {
   "codemirror_mode": {
    "name": "ipython",
    "version": 3
   },
   "file_extension": ".py",
   "mimetype": "text/x-python",
   "name": "python",
   "nbconvert_exporter": "python",
   "pygments_lexer": "ipython3",
   "version": "3.8.8"
  }
 },
 "nbformat": 4,
 "nbformat_minor": 5
}
